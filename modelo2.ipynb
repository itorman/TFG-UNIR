{
 "cells": [
  {
   "cell_type": "code",
   "execution_count": 13,
   "metadata": {},
   "outputs": [
    {
     "name": "stdout",
     "output_type": "stream",
     "text": [
      "Precisión del modelo: 0.9305648582272829\n"
     ]
    }
   ],
   "source": [
    "import pandas as pd\n",
    "from sklearn.feature_extraction.text import TfidfVectorizer\n",
    "from sklearn.model_selection import train_test_split\n",
    "from sklearn.linear_model import LogisticRegression\n",
    "from sklearn.metrics import accuracy_score\n",
    "\n",
    "# cargar los dos sets de tweets en dataframes\n",
    "df1 = pd.read_excel('IsisFanboy.xlsx')\n",
    "df2 = pd.read_excel('randomClean.xlsx')\n",
    "\n",
    "tweets = df1['Contenido']\n",
    "tweets = df2['Contenido']\n",
    "\n",
    "# agregar una columna 'tema' que identifique el tema de cada set de tweets\n",
    "df1['tema'] = 'real'\n",
    "df2['tema'] = 'news'\n",
    "\n",
    "# concatenar los dataframes\n",
    "df = pd.concat([df1, df2])\n",
    "\n",
    "df.head()\n",
    "\n",
    "# dividir los datos en entrenamiento y prueba\n",
    "X_train, X_test, y_train, y_test = train_test_split(df['Contenido'].values.astype(str), df['tema'], test_size=0.2, random_state=42)\n",
    "\n",
    "\n",
    "# crear un vectorizador Tfidf para convertir el texto a vectores numéricos\n",
    "vectorizer = TfidfVectorizer(stop_words='english')\n",
    "X_train_vec = vectorizer.fit_transform(X_train)\n",
    "X_test_vec = vectorizer.transform(X_test)\n",
    "\n",
    "# crear un modelo de regresión logística\n",
    "model = LogisticRegression()\n",
    "\n",
    "# entrenar el modelo con los datos de entrenamiento\n",
    "model.fit(X_train_vec, y_train)\n",
    "\n",
    "# predecir los temas de los tweets de prueba\n",
    "y_pred = model.predict(X_test_vec)\n",
    "\n",
    "# evaluar la precisión del modelo\n",
    "accuracy = accuracy_score(y_test, y_pred)\n",
    "print('Precisión del modelo:', accuracy)\n"
   ]
  }
 ],
 "metadata": {
  "kernelspec": {
   "display_name": "venv_tfg",
   "language": "python",
   "name": "python3"
  },
  "language_info": {
   "codemirror_mode": {
    "name": "ipython",
    "version": 3
   },
   "file_extension": ".py",
   "mimetype": "text/x-python",
   "name": "python",
   "nbconvert_exporter": "python",
   "pygments_lexer": "ipython3",
   "version": "3.8.3"
  },
  "orig_nbformat": 4
 },
 "nbformat": 4,
 "nbformat_minor": 2
}
