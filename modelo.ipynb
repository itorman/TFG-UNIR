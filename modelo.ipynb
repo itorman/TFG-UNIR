{
 "cells": [
  {
   "cell_type": "code",
   "execution_count": 111,
   "metadata": {},
   "outputs": [],
   "source": [
    "# dependencias y librerias\n",
    "import pandas as pd\n",
    "import numpy as np\n",
    "from top2vec import Top2Vec\n",
    "import regex as re\n",
    "from textblob import TextBlob"
   ]
  },
  {
   "cell_type": "code",
   "execution_count": 112,
   "metadata": {},
   "outputs": [
    {
     "name": "stdout",
     "output_type": "stream",
     "text": [
      "0    'A MESSAGE TO THE TRUTHFUL IN SYRIA - SHEIKH A...\n",
      "1    SHEIKH FATIH AL JAWLANI 'FOR THE PEOPLE OF INT...\n",
      "Name: Contenido, dtype: object\n"
     ]
    }
   ],
   "source": [
    "# obtengo el contenido de los tweets y lo guardo como 'docs'\n",
    "df = pd.read_excel('IsisFanboy.xlsx')\n",
    "docs = df['Contenido']\n",
    "print(docs[0:2])\n",
    "#print(df.columns)"
   ]
  },
  {
   "cell_type": "code",
   "execution_count": 113,
   "metadata": {},
   "outputs": [
    {
     "name": "stderr",
     "output_type": "stream",
     "text": [
      "2023-03-15 23:58:35,094 - top2vec - INFO - Pre-processing documents for training\n",
      "2023-03-15 23:58:36,369 - top2vec - INFO - Creating joint document/word embedding\n",
      "2023-03-15 23:59:08,481 - top2vec - INFO - Creating lower dimension embedding of documents\n",
      "2023-03-15 23:59:17,003 - top2vec - INFO - Finding dense areas of documents\n",
      "2023-03-15 23:59:18,922 - top2vec - INFO - Finding topics\n"
     ]
    }
   ],
   "source": [
    "# genero el modelo como 'modelo'\n",
    "docString = docs.astype(str)  # Top2Vec debe recibir un 'string' como parametro\n",
    "docString = docString.to_numpy()\n",
    "type(docString)\n",
    "\n",
    "model = Top2Vec(docString)"
   ]
  },
  {
   "cell_type": "code",
   "execution_count": 107,
   "metadata": {},
   "outputs": [
    {
     "name": "stdout",
     "output_type": "stream",
     "text": [
      "[1929 1214 1174  955  687  521  520  480  422  413  412  403  395  392\n",
      "  376  369  364  346  330  327  311  297  287  279  269  262  253  237\n",
      "  217  216  208  203  193  188  182  181  172  158  148  148  136  130\n",
      "  122  121  115  105   83   80   62]\n",
      "[ 0  1  2  3  4  5  6  7  8  9 10 11 12 13 14 15 16 17 18 19 20 21 22 23\n",
      " 24 25 26 27 28 29 30 31 32 33 34 35 36 37 38 39 40 41 42 43 44 45 46 47\n",
      " 48]\n",
      "0\n",
      "['kurds' 'part' 'place' 'since' 'front' 'again' 'daesh' 'alqaeda'\n",
      " 'supporters' 'twitterkurds' 'got' 'has' 'campaign' 'apostate' 'using'\n",
      " 'story' 'saying' 'made' 'still' 'maghrebiqm' 'attacked' 'seen' 'htt'\n",
      " 'america' 'took' 'last' 'source' 'major' 'allies' 'out' 'arab' 'family'\n",
      " 'leaders' 'wants' 'opposition' 'sdf' 'ksa' 'prison' 'pkk' 'abu' 'western'\n",
      " 'crimes' 'behind' 'shamirebel' 'her' 'group' 'photos' 'away' 'according'\n",
      " 'show']\n",
      "Words: [0.8665353  0.829757   0.8238543  0.82263285 0.8218523  0.8179288\n",
      " 0.81699926 0.80622154 0.80547047 0.8011026  0.7920764  0.78703725\n",
      " 0.784949   0.77961516 0.7781508  0.77760243 0.76968884 0.76820755\n",
      " 0.7657348  0.76426613 0.7638761  0.76361376 0.7633568  0.7582727\n",
      " 0.755063   0.7495606  0.748659   0.74788994 0.7442762  0.74359035\n",
      " 0.7408493  0.73996    0.7371839  0.7344252  0.73423284 0.73381245\n",
      " 0.7313879  0.7279932  0.72541624 0.7245027  0.72202784 0.7220217\n",
      " 0.7205679  0.719628   0.71811837 0.7172846  0.71711427 0.7167141\n",
      " 0.71602184 0.71590984]\n",
      "1\n",
      "['attacked' 'htt' 'region' 'family' 'campaign' 'dead' 'co' 'airbase'\n",
      " 'hours' 'defense' 'missile' 'according' 'photos' 'airport' 'west'\n",
      " 'kirkuk' 'captured' 'new' 'has' 'on' 'pictures' 'mosque' 'took'\n",
      " 'infographic' 'anti' 'group' 'missiles' 'lebanon' 'sdf' 'turkey' 'north'\n",
      " 'operations' 'opposition' 'intense' 'khanaser' 'breakingnews' 'aid'\n",
      " 'province' 'huge' 'place' 'two' 'over' 'vehicle' 'days' 'ar' 'large'\n",
      " 'ago' 'hama' 'dozens' 'assad']\n",
      "Words: [0.8794509  0.875898   0.86725545 0.84797394 0.8425892  0.82818973\n",
      " 0.82703    0.82693803 0.8221345  0.8203997  0.81989044 0.81796205\n",
      " 0.8165444  0.8142818  0.8113067  0.80926776 0.80925983 0.8086001\n",
      " 0.8065902  0.8060424  0.8002166  0.7992147  0.79778904 0.7970015\n",
      " 0.79615164 0.7940859  0.7926625  0.7914121  0.78999287 0.78864074\n",
      " 0.7858755  0.78512084 0.78450364 0.78370345 0.78065926 0.78064376\n",
      " 0.78034765 0.7799169  0.77924895 0.7771558  0.7759564  0.7753133\n",
      " 0.77456546 0.7738942  0.77261627 0.7721399  0.7719431  0.7707255\n",
      " 0.7704277  0.77018356]\n"
     ]
    }
   ],
   "source": [
    "tema_sizes, tema_nums = model.get_topic_sizes()\n",
    "print(tema_sizes)\n",
    "print(tema_nums)\n",
    "tema_scores, tema_words, tema_nums = model.get_topics(2)\n",
    "for scores, words, nums in zip(tema_scores, tema_words, tema_nums):\n",
    "    print(nums)\n",
    "    print(scores)\n",
    "    print(f'Words: {words}')\n"
   ]
  },
  {
   "cell_type": "code",
   "execution_count": 108,
   "metadata": {},
   "outputs": [
    {
     "name": "stdout",
     "output_type": "stream",
     "text": [
      "Document: 7113, Score: 0.9743598103523254\n",
      "----------\n",
      "#BreakingNews #YPG terror group has reportedly attacked a #Turkey army post near #Syria|n borders. Intense clashes erupted near #Qamishli.. \n",
      "----------\n",
      "\n",
      "Document: 10869, Score: 0.9708662033081055\n",
      "----------\n",
      "@irqjmjmt: Hashtag supporting Shaykh Sulayman al-'Ulwan May Allaah free him from the dungeons of al-Salul #تعذيب_الشيخ_العلوان \n",
      "----------\n",
      "\n",
      "Document: 10551, Score: 0.9677280187606812\n",
      "----------\n",
      "@Zarathoustra96: #BREAKING: #Iran has reportedly launched balistic missiles on IS's positions near Makhmur in #Iraq for supporting Iraqi… \n",
      "----------\n",
      "\n",
      "Document: 3403, Score: 0.9651638269424438\n",
      "----------\n",
      "@WavveyMo Thank you for the reference. I'm trying to find something stronger than Rudaw though ! \n",
      "----------\n",
      "\n",
      "Document: 1537, Score: 0.9648314118385315\n",
      "----------\n",
      "Hijrah to #Yemen is easy. If u ar a student of Sh.Anwar Awlaki and u want to live in his footsteps then Yemen is ur place. #WilayatHadramaut \n",
      "----------\n",
      "\n",
      "Document: 5841, Score: 0.9618116617202759\n",
      "----------\n",
      "Dawlah damaged a Abrams tank & destroyed three Hummer vehicles of Iraqi forces near Amiriyah Fallujah. \n",
      "----------\n",
      "\n",
      "Document: 8185, Score: 0.9612011313438416\n",
      "----------\n",
      "@CTstudies: #Iraq #Kirkuk Daesh statement claims that they attacked COB's in Mansuriyah and the Yarmouk residence complex https://t.co/W… \n",
      "----------\n",
      "\n",
      "Document: 1652, Score: 0.9612004160881042\n",
      "----------\n",
      "#ISIS Inghimasi attack & 50 Katyusha rockets targeted residential complex of Ayn al-Asad airbase in #Anbar #Iraq https://t.co/YO7K3QaNoV \n",
      "----------\n",
      "\n",
      "Document: 9277, Score: 0.9606632590293884\n",
      "----------\n",
      "@scottmikey1111: And the guerrilla warfare starts. An #ISIS SVBIED rips thru #SAA forces in Taar Mount, on the outskirts of #Palmyra htt… \n",
      "----------\n",
      "\n",
      "Document: 10413, Score: 0.9600530862808228\n",
      "----------\n",
      ">9 Uzbekistani units went in Kyrgyzstan territory to find them and surrounded 5 of them in Jalal Abad place \n",
      "----------\n",
      "\n"
     ]
    }
   ],
   "source": [
    "docs, doc_scores, doc_ids = model. search_documents_by_topic (topic_num=1, num_docs=10)\n",
    "for doc, score, doc_id in zip (docs, doc_scores, doc_ids):\n",
    "    print (f\"Document: {doc_id}, Score: {score}\")\n",
    "    print('----------')\n",
    "    print (doc)\n",
    "    print('----------')\n",
    "    print()\n",
    "\n",
    "\n"
   ]
  },
  {
   "attachments": {},
   "cell_type": "markdown",
   "metadata": {},
   "source": [
    "## ANALISIS DE SENTIMIENTO"
   ]
  },
  {
   "cell_type": "code",
   "execution_count": 109,
   "metadata": {},
   "outputs": [],
   "source": [
    "def limpia_tweet(doc):\n",
    "    '''\n",
    "    Función de utilidad para limpiar el texto de un tweet removiendo \n",
    "    enlaces y caracteres especiales usando regex.\n",
    "    '''\n",
    "    return ' '.join(re.sub(\"(@[A-Za-z0-9]+)|([^0-9A-Za-z \\t])|(\\w+:\\/\\/\\S+)\", \" \", doc).split())\n",
    "\n",
    "def analiza_sentimiento(doc):\n",
    "    '''\n",
    "    Función de utilidad para clasificar el sentimiento del tweet\n",
    "    proporcionado utilizando textblob\n",
    "    '''\n",
    "    analysis = TextBlob(limpia_tweet(doc))\n",
    "    if analysis.sentiment.polarity > 0:\n",
    "        return 1\n",
    "    elif analysis.sentiment.polarity == 0:\n",
    "        return 0\n",
    "    else:\n",
    "        return -1"
   ]
  },
  {
   "cell_type": "code",
   "execution_count": 110,
   "metadata": {},
   "outputs": [
    {
     "data": {
      "text/html": [
       "<div>\n",
       "<style scoped>\n",
       "    .dataframe tbody tr th:only-of-type {\n",
       "        vertical-align: middle;\n",
       "    }\n",
       "\n",
       "    .dataframe tbody tr th {\n",
       "        vertical-align: top;\n",
       "    }\n",
       "\n",
       "    .dataframe thead th {\n",
       "        text-align: right;\n",
       "    }\n",
       "</style>\n",
       "<table border=\"1\" class=\"dataframe\">\n",
       "  <thead>\n",
       "    <tr style=\"text-align: right;\">\n",
       "      <th></th>\n",
       "      <th>Fecha</th>\n",
       "      <th>Usuario</th>\n",
       "      <th>Displayed name</th>\n",
       "      <th>Contenido</th>\n",
       "      <th>Ubicacion</th>\n",
       "      <th>AdS</th>\n",
       "    </tr>\n",
       "  </thead>\n",
       "  <tbody>\n",
       "    <tr>\n",
       "      <th>0</th>\n",
       "      <td>1/6/2015 21:07</td>\n",
       "      <td>GunsandCoffee70</td>\n",
       "      <td>GunsandCoffee</td>\n",
       "      <td>'A MESSAGE TO THE TRUTHFUL IN SYRIA - SHEIKH A...</td>\n",
       "      <td>NaN</td>\n",
       "      <td>1</td>\n",
       "    </tr>\n",
       "    <tr>\n",
       "      <th>1</th>\n",
       "      <td>1/6/2015 21:27</td>\n",
       "      <td>GunsandCoffee70</td>\n",
       "      <td>GunsandCoffee</td>\n",
       "      <td>SHEIKH FATIH AL JAWLANI 'FOR THE PEOPLE OF INT...</td>\n",
       "      <td>NaN</td>\n",
       "      <td>1</td>\n",
       "    </tr>\n",
       "    <tr>\n",
       "      <th>2</th>\n",
       "      <td>1/6/2015 21:29</td>\n",
       "      <td>GunsandCoffee70</td>\n",
       "      <td>GunsandCoffee</td>\n",
       "      <td>FIRST AUDIO MEETING WITH SHEIKH FATIH AL JAWLA...</td>\n",
       "      <td>NaN</td>\n",
       "      <td>1</td>\n",
       "    </tr>\n",
       "    <tr>\n",
       "      <th>3</th>\n",
       "      <td>1/6/2015 21:37</td>\n",
       "      <td>GunsandCoffee70</td>\n",
       "      <td>GunsandCoffee</td>\n",
       "      <td>SHEIKH NASIR AL WUHAYSHI (HA), LEADER OF AQAP:...</td>\n",
       "      <td>NaN</td>\n",
       "      <td>0</td>\n",
       "    </tr>\n",
       "    <tr>\n",
       "      <th>4</th>\n",
       "      <td>1/6/2015 21:45</td>\n",
       "      <td>GunsandCoffee70</td>\n",
       "      <td>GunsandCoffee</td>\n",
       "      <td>AQAP: 'RESPONSE TO SHEIKH BAGHDADIS STATEMENT ...</td>\n",
       "      <td>NaN</td>\n",
       "      <td>0</td>\n",
       "    </tr>\n",
       "    <tr>\n",
       "      <th>5</th>\n",
       "      <td>1/6/2015 21:51</td>\n",
       "      <td>GunsandCoffee70</td>\n",
       "      <td>GunsandCoffee</td>\n",
       "      <td>THE SECOND CLIP IN A DA'WAH SERIES BY A SOLDIE...</td>\n",
       "      <td>NaN</td>\n",
       "      <td>0</td>\n",
       "    </tr>\n",
       "    <tr>\n",
       "      <th>6</th>\n",
       "      <td>1/6/2015 22:04</td>\n",
       "      <td>GunsandCoffee70</td>\n",
       "      <td>GunsandCoffee</td>\n",
       "      <td>ENGLISH TRANSCRIPT : OH MURABIT! : https://jus...</td>\n",
       "      <td>NaN</td>\n",
       "      <td>0</td>\n",
       "    </tr>\n",
       "    <tr>\n",
       "      <th>7</th>\n",
       "      <td>1/6/2015 22:06</td>\n",
       "      <td>GunsandCoffee70</td>\n",
       "      <td>GunsandCoffee</td>\n",
       "      <td>'A COLLECTION OF THE WORDS OF THE U'LAMA REGAR...</td>\n",
       "      <td>NaN</td>\n",
       "      <td>0</td>\n",
       "    </tr>\n",
       "    <tr>\n",
       "      <th>8</th>\n",
       "      <td>1/6/2015 22:17</td>\n",
       "      <td>GunsandCoffee70</td>\n",
       "      <td>GunsandCoffee</td>\n",
       "      <td>Aslm Please share our new account after the pr...</td>\n",
       "      <td>NaN</td>\n",
       "      <td>-1</td>\n",
       "    </tr>\n",
       "    <tr>\n",
       "      <th>9</th>\n",
       "      <td>1/10/2015 0:05</td>\n",
       "      <td>GunsandCoffee70</td>\n",
       "      <td>GunsandCoffee</td>\n",
       "      <td>AQAP STATEMENT REGARDING THE BLESSED RAID IN F...</td>\n",
       "      <td>NaN</td>\n",
       "      <td>0</td>\n",
       "    </tr>\n",
       "  </tbody>\n",
       "</table>\n",
       "</div>"
      ],
      "text/plain": [
       "            Fecha          Usuario Displayed name  \\\n",
       "0  1/6/2015 21:07  GunsandCoffee70  GunsandCoffee   \n",
       "1  1/6/2015 21:27  GunsandCoffee70  GunsandCoffee   \n",
       "2  1/6/2015 21:29  GunsandCoffee70  GunsandCoffee   \n",
       "3  1/6/2015 21:37  GunsandCoffee70  GunsandCoffee   \n",
       "4  1/6/2015 21:45  GunsandCoffee70  GunsandCoffee   \n",
       "5  1/6/2015 21:51  GunsandCoffee70  GunsandCoffee   \n",
       "6  1/6/2015 22:04  GunsandCoffee70  GunsandCoffee   \n",
       "7  1/6/2015 22:06  GunsandCoffee70  GunsandCoffee   \n",
       "8  1/6/2015 22:17  GunsandCoffee70  GunsandCoffee   \n",
       "9  1/10/2015 0:05  GunsandCoffee70  GunsandCoffee   \n",
       "\n",
       "                                           Contenido  Ubicacion  AdS  \n",
       "0  'A MESSAGE TO THE TRUTHFUL IN SYRIA - SHEIKH A...        NaN    1  \n",
       "1  SHEIKH FATIH AL JAWLANI 'FOR THE PEOPLE OF INT...        NaN    1  \n",
       "2  FIRST AUDIO MEETING WITH SHEIKH FATIH AL JAWLA...        NaN    1  \n",
       "3  SHEIKH NASIR AL WUHAYSHI (HA), LEADER OF AQAP:...        NaN    0  \n",
       "4  AQAP: 'RESPONSE TO SHEIKH BAGHDADIS STATEMENT ...        NaN    0  \n",
       "5  THE SECOND CLIP IN A DA'WAH SERIES BY A SOLDIE...        NaN    0  \n",
       "6  ENGLISH TRANSCRIPT : OH MURABIT! : https://jus...        NaN    0  \n",
       "7  'A COLLECTION OF THE WORDS OF THE U'LAMA REGAR...        NaN    0  \n",
       "8  Aslm Please share our new account after the pr...        NaN   -1  \n",
       "9  AQAP STATEMENT REGARDING THE BLESSED RAID IN F...        NaN    0  "
      ]
     },
     "metadata": {},
     "output_type": "display_data"
    }
   ],
   "source": [
    "# Creamos columna de resultados del análisis\n",
    "df['AdS'] = np.array([analiza_sentimiento(doc) for doc in docString])\n",
    "# Hacemos display de los sentimientos:\n",
    "display(df.head(10))"
   ]
  },
  {
   "cell_type": "code",
   "execution_count": 97,
   "metadata": {},
   "outputs": [],
   "source": [
    "tweets_positivos = [ tweet for index, tweet in enumerate(df['Contenido']) if df['AdS'][index] > 0]\n",
    "tweets_neutros   = [ tweet for index, tweet in enumerate(df['Contenido']) if df['AdS'][index] == 0]\n",
    "tweets_negativos = [ tweet for index, tweet in enumerate(df['Contenido']) if df['AdS'][index] < 0]"
   ]
  },
  {
   "cell_type": "code",
   "execution_count": 101,
   "metadata": {},
   "outputs": [
    {
     "name": "stdout",
     "output_type": "stream",
     "text": [
      "Porcentaje de tweets positivos: 33.81205120199812%\n",
      "Porcentaje de tweets neutros: 43.89634717452388%\n",
      "Porcentaje de tweets negativos: 22.29160162347799%\n"
     ]
    }
   ],
   "source": [
    "print(\"Porcentaje de tweets positivos: {}%\".format(len(tweets_positivos)*100/len(df['Contenido'])))\n",
    "print(\"Porcentaje de tweets neutros: {}%\".format(len(tweets_neutros)*100/len(df['Contenido'])))\n",
    "print(\"Porcentaje de tweets negativos: {}%\".format(len(tweets_negativos)*100/len(df['Contenido'])))"
   ]
  },
  {
   "cell_type": "code",
   "execution_count": 103,
   "metadata": {},
   "outputs": [
    {
     "name": "stdout",
     "output_type": "stream",
     "text": [
      "                   Fecha        Usuario      Displayed name  \\\n",
      "3    2015-01-11 20:59:10      AJEnglish  Al Jazeera English   \n",
      "7    2015-01-11 18:30:05      AJEnglish  Al Jazeera English   \n",
      "8    2015-01-11 18:00:08      AJEnglish  Al Jazeera English   \n",
      "14   2015-01-11 13:59:18      AJEnglish  Al Jazeera English   \n",
      "39   2015-01-10 21:30:04      AJEnglish  Al Jazeera English   \n",
      "...                  ...            ...                 ...   \n",
      "3187 2022-11-01 11:12:36  TracTerrorism       TRACTerrorism   \n",
      "3190 2022-11-01 07:35:09  TracTerrorism       TRACTerrorism   \n",
      "3193 2022-10-31 19:39:49  TracTerrorism       TRACTerrorism   \n",
      "3194 2022-10-31 19:03:46  TracTerrorism       TRACTerrorism   \n",
      "3195 2022-10-31 18:30:51  TracTerrorism       TRACTerrorism   \n",
      "\n",
      "                                              Contenido  Ubicacion  AdS  \n",
      "3     first suicide attack hit lebanon seven month s...        NaN    1  \n",
      "7     al jazeera spoke sri lankans expressed hope be...        NaN    1  \n",
      "8               ajeopinion charliehebdo attack real war        NaN    1  \n",
      "14    huge crowd attending march paris honour people...        NaN    1  \n",
      "39    prominent muslim scholar tariq ramadan west te...        NaN    1  \n",
      "...                                                 ...        ...  ...  \n",
      "3187  suspected islamicstate westafrica iswa assault...        NaN    1  \n",
      "3190  letzte generation climate activist glued dinos...        NaN    1  \n",
      "3193  large scale clash erupted syrian democratic fo...        NaN    1  \n",
      "3194  islamicstate greater sahara isgs win initial c...        NaN    1  \n",
      "3195  suspected islamic state west africa iswa attem...        NaN    1  \n",
      "\n",
      "[1083 rows x 6 columns]\n"
     ]
    }
   ],
   "source": [
    "# Obtener los tweets negativos\n",
    "negativos_df = df[df['AdS'] > 0]\n",
    "usuarios_negativos = negativos_df['Usuario'].unique()\n",
    "print(negativos_df)\n",
    "#print(len(usuarios_negativos))\n",
    "#print(usuarios_negativos)"
   ]
  }
 ],
 "metadata": {
  "kernelspec": {
   "display_name": "venv_tfg",
   "language": "python",
   "name": "python3"
  },
  "language_info": {
   "codemirror_mode": {
    "name": "ipython",
    "version": 3
   },
   "file_extension": ".py",
   "mimetype": "text/x-python",
   "name": "python",
   "nbconvert_exporter": "python",
   "pygments_lexer": "ipython3",
   "version": "3.8.3"
  },
  "orig_nbformat": 4
 },
 "nbformat": 4,
 "nbformat_minor": 2
}
