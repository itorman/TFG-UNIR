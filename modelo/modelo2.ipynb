{
 "cells": [
  {
   "cell_type": "code",
   "execution_count": 1,
   "metadata": {},
   "outputs": [],
   "source": [
    "import pandas as pd\n",
    "from sklearn.feature_extraction.text import TfidfVectorizer\n",
    "from sklearn.model_selection import train_test_split\n",
    "from sklearn.linear_model import LogisticRegression\n",
    "from sklearn.metrics import accuracy_score\n",
    "import pickle\n"
   ]
  },
  {
   "cell_type": "code",
   "execution_count": 13,
   "metadata": {},
   "outputs": [
    {
     "name": "stdout",
     "output_type": "stream",
     "text": [
      "\n",
      " ---------------------------------------- \n",
      "Precisión del modelo: 0.9491150442477876\n"
     ]
    }
   ],
   "source": [
    "# cargar los dos sets de tweets en dataframes\n",
    "df1 = pd.read_excel('ISIS_Twitter_clean.xlsx')\n",
    "\n",
    "# print(df1.head())  # debug\n",
    "# print(df1.tail())  # debug\n",
    "\n",
    "# dividir los datos en entrenamiento y prueba\n",
    "X_train, X_test, y_train, y_test = train_test_split(df1['Contenido'].values.astype(str), df1['label'], test_size=0.2, random_state=42)\n",
    "\n",
    "\n",
    "# crear un vectorizador Tfidf para convertir el texto a vectores numéricos\n",
    "vectorizer = TfidfVectorizer(stop_words='english')\n",
    "X_train_vec = vectorizer.fit_transform(X_train)\n",
    "X_test_vec = vectorizer.transform(X_test)\n",
    "\n",
    "# crear un modelo de regresión logística\n",
    "model = LogisticRegression()\n",
    "\n",
    "# entrenar el modelo con los datos de entrenamiento\n",
    "model.fit(X_train_vec, y_train)\n",
    "\n",
    "# predecir los temas de los tweets de prueba\n",
    "y_pred = model.predict(X_test_vec)\n",
    "\n",
    "# evaluar la precisión del modelo\n",
    "accuracy = accuracy_score(y_test, y_pred)\n",
    "print('\\n ---------------------------------------- \\nPrecisión del modelo:', accuracy)\n",
    "\n",
    "## Descomentar cada vez que generamos un nuevo modelo para guardar el modelo y el vectorizador en archivos pickle\n",
    "# # Guardar el modelo en un archivo 'model4.pkl'\n",
    "# with open('model4.pkl', 'wb') as model_file:\n",
    "#     pickle.dump(model, model_file)\n",
    "\n",
    "# # Guardar el vectorizador en un archivo 'vectorizer.pkl'\n",
    "# with open('vectorizer4.pkl', 'wb') as vectorizer_file:\n",
    "#     pickle.dump(vectorizer, vectorizer_file)\n"
   ]
  },
  {
   "cell_type": "code",
   "execution_count": 14,
   "metadata": {},
   "outputs": [
    {
     "data": {
      "image/png": "[encoded data removed]",
      "text/plain": [
       "<Figure size 500x500 with 1 Axes>"
      ]
     },
     "metadata": {},
     "output_type": "display_data"
    }
   ],
   "source": [
    "# VISUALIZAMOS LA MATRIZ DE CONFUSIÓN\n",
    "from sklearn.metrics import confusion_matrix\n",
    "import matplotlib.pyplot as plt\n",
    "\n",
    "# Definir etiquetas de las clases\n",
    "class_labels = ['Negativo', 'Positivo']\n",
    "\n",
    "# Matriz de confusión\n",
    "fig, ax = plt.subplots(figsize=(5,5))\n",
    "ax.grid(False)\n",
    "cm = confusion_matrix(y_test, y_pred)\n",
    "\n",
    "# Visualizar matriz de confusión con etiquetas personalizadas\n",
    "ax.matshow(cm, cmap=plt.cm.Blues, alpha=0.3)\n",
    "\n",
    "# Agregar etiquetas a las celdas de la matriz\n",
    "for i in range(cm.shape[0]):\n",
    "    for j in range(cm.shape[1]):\n",
    "        ax.text(x=j, y=i, s=cm[i, j], va='center', ha='center')\n",
    "\n",
    "# Configurar etiquetas de los ejes x e y\n",
    "plt.xticks(range(len(class_labels)), class_labels)\n",
    "plt.yticks(range(len(class_labels)), class_labels)\n",
    "plt.xlabel('Predicción')\n",
    "plt.ylabel('Valor real')\n",
    "plt.show()\n",
    "\n"
   ]
  },
  {
   "cell_type": "code",
   "execution_count": 15,
   "metadata": {},
   "outputs": [
    {
     "name": "stdout",
     "output_type": "stream",
     "text": [
      "218\n",
      "23\n",
      "1. periscope rosscaneva rt mitney rosscaneva periscope paris bataclan night terrorist attack\n",
      "2. periscope rosscaneva rt jmoon rosscaneva periscope paris bataclan night terrorist attack\n",
      "3. paris bataclan theater received threat proisrael event attack via\n",
      "4. bataclan attack video people flee paris theater second terrorist via\n",
      "5. gunfire bataclan concert hall paris terrorist attack via\n",
      "6. british victim bataclan attack paris named nick alexander\n",
      "7. british victim bataclan attack paris named nick alexander\n",
      "8. man began playing one world famous peace anthem grand piano outside bataclan theater\n",
      "9. paris attack bataclan assault leave dead via\n",
      "10. ucwradio british victim bataclan attack paris named nick alexander news\n",
      "11. british victim bataclan attack paris named nick alexander\n",
      "12. british victim bataclan attack paris named nick alexander\n",
      "13. dont want radicalism xenophobia division hate le bataclan\n",
      "14. tragic scope terrorist attack continue people inside concert venue bataclan share\n",
      "15. man play immagine john lennon piano near bataclan paris attack via\n",
      "16. periscope paris bataclan night terrorist attack\n",
      "17. yes terrorist kill kill kill infidel\n",
      "18. therefore rush muslim state yes state rush syria isnot syrian iraq iraqi state state muslim muslim everywhere whoever capable performing hijrah islamic state let hijrah land islam obligatory\n",
      "19. islam destroy humiliate type falsehood truth\n",
      "20. islam offer u cure solution problem\n",
      "21. islam destroy draconian law establish justice bring stability peace\n",
      "22. foolish people u well know islam conquer world go advice embrace islam rally\n",
      "23. always big fan slovenia competing eurovision year honestly think withdraw dont know else get point know small country cmon\n"
     ]
    }
   ],
   "source": [
    "#### ESTA FUNCIÓN HA SIDO YA IMPLEMENTADA EN EL FICHERO PROTOTIPO ####\n",
    "# SOLO PARA DEBUGGING #\n",
    "\n",
    "def clasificar_tweets(lista_tweets):\n",
    "    # crear vectores numéricos a partir del texto de los tweets\n",
    "    lista_vec = vectorizer.transform(lista_tweets)\n",
    "\n",
    "    # hacer predicciones de la clase de los tweets\n",
    "    predicciones = model.predict(lista_vec)\n",
    "\n",
    "    # identificar cuáles tweets son de la categoría \"es_terrorismo\"\n",
    "    es_terrorismo = predicciones == 'N'\n",
    "\n",
    "    # devolver los tweets clasificados como \"terrorismo\"\n",
    "    return [t for i, t in enumerate(lista_tweets) if es_terrorismo[i]]\n",
    "\n",
    "tweets = pd.read_excel(\"checkMixClean.xlsx\")\n",
    "print(len(tweets))\n",
    "tweets = tweets['Contenido'].values.astype(str)\n",
    "tweets_terrorismo = clasificar_tweets(tweets)\n",
    "print(len(tweets_terrorismo))\n",
    "\n",
    "for i, tweet in enumerate(tweets_terrorismo, start=1):\n",
    "    print(f\"{i}. {tweet}\")\n"
   ]
  }
 ],
 "metadata": {
  "kernelspec": {
   "display_name": "venv_tfg",
   "language": "python",
   "name": "python3"
  },
  "language_info": {
   "codemirror_mode": {
    "name": "ipython",
    "version": 3
   },
   "file_extension": ".py",
   "mimetype": "text/x-python",
   "name": "python",
   "nbconvert_exporter": "python",
   "pygments_lexer": "ipython3",
   "version": "3.8.3"
  },
  "orig_nbformat": 4
 },
 "nbformat": 4,
 "nbformat_minor": 2
}
